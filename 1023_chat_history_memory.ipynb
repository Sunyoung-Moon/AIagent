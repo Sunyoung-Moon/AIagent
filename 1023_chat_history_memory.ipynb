{
 "cells": [
  {
   "cell_type": "markdown",
   "id": "87a2bc80",
   "metadata": {},
   "source": [
    "### 05_대화 메모리 관리"
   ]
  },
  {
   "cell_type": "code",
   "execution_count": 2,
   "id": "1cb2ac61",
   "metadata": {},
   "outputs": [],
   "source": [
    "import os\n",
    "from dotenv import load_dotenv"
   ]
  },
  {
   "cell_type": "code",
   "execution_count": 3,
   "id": "4925db10",
   "metadata": {},
   "outputs": [
    {
     "data": {
      "text/plain": [
       "True"
      ]
     },
     "execution_count": 3,
     "metadata": {},
     "output_type": "execute_result"
    }
   ],
   "source": [
    "load_dotenv(\"/home/ubuntu/project/.env\")"
   ]
  },
  {
   "cell_type": "code",
   "execution_count": 4,
   "id": "a22eb5e7",
   "metadata": {},
   "outputs": [],
   "source": [
    "from langchain_core.chat_history import InMemoryChatMessageHistory\n",
    "from langchain_core.messages import HumanMessage, AIMessage"
   ]
  },
  {
   "cell_type": "code",
   "execution_count": 5,
   "id": "4477cec4",
   "metadata": {},
   "outputs": [],
   "source": [
    "# 1) 메모리 객체 생성\n",
    "history = InMemoryChatMessageHistory()"
   ]
  },
  {
   "cell_type": "code",
   "execution_count": 6,
   "id": "cbbf4da0",
   "metadata": {},
   "outputs": [],
   "source": [
    "# 2) 사용자 메시지 추가\n",
    "history.add_message(HumanMessage(content=\"안녕?\"))"
   ]
  },
  {
   "cell_type": "code",
   "execution_count": 7,
   "id": "809faa79",
   "metadata": {},
   "outputs": [],
   "source": [
    "# 3) AI 응답 추가\n",
    "history.add_message(AIMessage(content=\"안녕하세요! 만나서 반가워요.\"))"
   ]
  },
  {
   "cell_type": "code",
   "execution_count": 8,
   "id": "371c3a0f",
   "metadata": {},
   "outputs": [
    {
     "name": "stdout",
     "output_type": "stream",
     "text": [
      "=== 대화 기록 ===\n",
      "🧑 사용자: 안녕?\n",
      "🤖 AI: 안녕하세요! 만나서 반가워요.\n"
     ]
    }
   ],
   "source": [
    "# 4) 기록 확인\n",
    "print(\"=== 대화 기록 ===\")\n",
    "for msg in history.messages:\n",
    "    role = \"🧑 사용자\" if msg.type == \"human\" else \"🤖 AI\"\n",
    "    print(f\"{role}: {msg.content}\")\n",
    "\n",
    "# 프로그램이 종료되면 기록이 사라지는 휘발성(volatile) 구조"
   ]
  },
  {
   "cell_type": "code",
   "execution_count": 9,
   "id": "7576e7a0",
   "metadata": {},
   "outputs": [
    {
     "name": "stdout",
     "output_type": "stream",
     "text": [
      "Requirement already satisfied: langchain-community in /home/ubuntu/.venv/lib/python3.10/site-packages (0.4)\n",
      "Requirement already satisfied: langchain-core<2.0.0,>=1.0.0 in /home/ubuntu/.venv/lib/python3.10/site-packages (from langchain-community) (1.0.0)\n",
      "Requirement already satisfied: langchain-classic<2.0.0,>=1.0.0 in /home/ubuntu/.venv/lib/python3.10/site-packages (from langchain-community) (1.0.0)\n",
      "Requirement already satisfied: SQLAlchemy<3.0.0,>=1.4.0 in /home/ubuntu/.venv/lib/python3.10/site-packages (from langchain-community) (2.0.44)\n",
      "Requirement already satisfied: requests<3.0.0,>=2.32.5 in /home/ubuntu/.venv/lib/python3.10/site-packages (from langchain-community) (2.32.5)\n",
      "Requirement already satisfied: PyYAML<7.0.0,>=5.3.0 in /home/ubuntu/.venv/lib/python3.10/site-packages (from langchain-community) (6.0.3)\n",
      "Requirement already satisfied: aiohttp<4.0.0,>=3.8.3 in /home/ubuntu/.venv/lib/python3.10/site-packages (from langchain-community) (3.13.1)\n",
      "Requirement already satisfied: tenacity!=8.4.0,<10.0.0,>=8.1.0 in /home/ubuntu/.venv/lib/python3.10/site-packages (from langchain-community) (9.1.2)\n",
      "Requirement already satisfied: dataclasses-json<0.7.0,>=0.6.7 in /home/ubuntu/.venv/lib/python3.10/site-packages (from langchain-community) (0.6.7)\n",
      "Requirement already satisfied: pydantic-settings<3.0.0,>=2.10.1 in /home/ubuntu/.venv/lib/python3.10/site-packages (from langchain-community) (2.11.0)\n",
      "Requirement already satisfied: langsmith<1.0.0,>=0.1.125 in /home/ubuntu/.venv/lib/python3.10/site-packages (from langchain-community) (0.4.37)\n",
      "Requirement already satisfied: httpx-sse<1.0.0,>=0.4.0 in /home/ubuntu/.venv/lib/python3.10/site-packages (from langchain-community) (0.4.3)\n",
      "Requirement already satisfied: numpy>=1.26.2 in /home/ubuntu/.venv/lib/python3.10/site-packages (from langchain-community) (2.2.6)\n",
      "Requirement already satisfied: aiohappyeyeballs>=2.5.0 in /home/ubuntu/.venv/lib/python3.10/site-packages (from aiohttp<4.0.0,>=3.8.3->langchain-community) (2.6.1)\n",
      "Requirement already satisfied: aiosignal>=1.4.0 in /home/ubuntu/.venv/lib/python3.10/site-packages (from aiohttp<4.0.0,>=3.8.3->langchain-community) (1.4.0)\n",
      "Requirement already satisfied: async-timeout<6.0,>=4.0 in /home/ubuntu/.venv/lib/python3.10/site-packages (from aiohttp<4.0.0,>=3.8.3->langchain-community) (4.0.3)\n",
      "Requirement already satisfied: attrs>=17.3.0 in /home/ubuntu/.venv/lib/python3.10/site-packages (from aiohttp<4.0.0,>=3.8.3->langchain-community) (25.4.0)\n",
      "Requirement already satisfied: frozenlist>=1.1.1 in /home/ubuntu/.venv/lib/python3.10/site-packages (from aiohttp<4.0.0,>=3.8.3->langchain-community) (1.8.0)\n",
      "Requirement already satisfied: multidict<7.0,>=4.5 in /home/ubuntu/.venv/lib/python3.10/site-packages (from aiohttp<4.0.0,>=3.8.3->langchain-community) (6.7.0)\n",
      "Requirement already satisfied: propcache>=0.2.0 in /home/ubuntu/.venv/lib/python3.10/site-packages (from aiohttp<4.0.0,>=3.8.3->langchain-community) (0.4.1)\n",
      "Requirement already satisfied: yarl<2.0,>=1.17.0 in /home/ubuntu/.venv/lib/python3.10/site-packages (from aiohttp<4.0.0,>=3.8.3->langchain-community) (1.22.0)\n",
      "Requirement already satisfied: marshmallow<4.0.0,>=3.18.0 in /home/ubuntu/.venv/lib/python3.10/site-packages (from dataclasses-json<0.7.0,>=0.6.7->langchain-community) (3.26.1)\n",
      "Requirement already satisfied: typing-inspect<1,>=0.4.0 in /home/ubuntu/.venv/lib/python3.10/site-packages (from dataclasses-json<0.7.0,>=0.6.7->langchain-community) (0.9.0)\n",
      "Requirement already satisfied: langchain-text-splitters<2.0.0,>=1.0.0 in /home/ubuntu/.venv/lib/python3.10/site-packages (from langchain-classic<2.0.0,>=1.0.0->langchain-community) (1.0.0)\n",
      "Requirement already satisfied: pydantic<3.0.0,>=2.7.4 in /home/ubuntu/.venv/lib/python3.10/site-packages (from langchain-classic<2.0.0,>=1.0.0->langchain-community) (2.12.3)\n",
      "Requirement already satisfied: jsonpatch<2.0.0,>=1.33.0 in /home/ubuntu/.venv/lib/python3.10/site-packages (from langchain-core<2.0.0,>=1.0.0->langchain-community) (1.33)\n",
      "Requirement already satisfied: packaging<26.0.0,>=23.2.0 in /home/ubuntu/.venv/lib/python3.10/site-packages (from langchain-core<2.0.0,>=1.0.0->langchain-community) (25.0)\n",
      "Requirement already satisfied: typing-extensions<5.0.0,>=4.7.0 in /home/ubuntu/.venv/lib/python3.10/site-packages (from langchain-core<2.0.0,>=1.0.0->langchain-community) (4.15.0)\n",
      "Requirement already satisfied: jsonpointer>=1.9 in /home/ubuntu/.venv/lib/python3.10/site-packages (from jsonpatch<2.0.0,>=1.33.0->langchain-core<2.0.0,>=1.0.0->langchain-community) (3.0.0)\n",
      "Requirement already satisfied: httpx<1,>=0.23.0 in /home/ubuntu/.venv/lib/python3.10/site-packages (from langsmith<1.0.0,>=0.1.125->langchain-community) (0.28.1)\n",
      "Requirement already satisfied: orjson>=3.9.14 in /home/ubuntu/.venv/lib/python3.10/site-packages (from langsmith<1.0.0,>=0.1.125->langchain-community) (3.11.3)\n",
      "Requirement already satisfied: requests-toolbelt>=1.0.0 in /home/ubuntu/.venv/lib/python3.10/site-packages (from langsmith<1.0.0,>=0.1.125->langchain-community) (1.0.0)\n",
      "Requirement already satisfied: zstandard>=0.23.0 in /home/ubuntu/.venv/lib/python3.10/site-packages (from langsmith<1.0.0,>=0.1.125->langchain-community) (0.25.0)\n",
      "Requirement already satisfied: anyio in /home/ubuntu/.venv/lib/python3.10/site-packages (from httpx<1,>=0.23.0->langsmith<1.0.0,>=0.1.125->langchain-community) (4.11.0)\n",
      "Requirement already satisfied: certifi in /home/ubuntu/.venv/lib/python3.10/site-packages (from httpx<1,>=0.23.0->langsmith<1.0.0,>=0.1.125->langchain-community) (2025.10.5)\n",
      "Requirement already satisfied: httpcore==1.* in /home/ubuntu/.venv/lib/python3.10/site-packages (from httpx<1,>=0.23.0->langsmith<1.0.0,>=0.1.125->langchain-community) (1.0.9)\n",
      "Requirement already satisfied: idna in /home/ubuntu/.venv/lib/python3.10/site-packages (from httpx<1,>=0.23.0->langsmith<1.0.0,>=0.1.125->langchain-community) (3.11)\n",
      "Requirement already satisfied: h11>=0.16 in /home/ubuntu/.venv/lib/python3.10/site-packages (from httpcore==1.*->httpx<1,>=0.23.0->langsmith<1.0.0,>=0.1.125->langchain-community) (0.16.0)\n",
      "Requirement already satisfied: annotated-types>=0.6.0 in /home/ubuntu/.venv/lib/python3.10/site-packages (from pydantic<3.0.0,>=2.7.4->langchain-classic<2.0.0,>=1.0.0->langchain-community) (0.7.0)\n",
      "Requirement already satisfied: pydantic-core==2.41.4 in /home/ubuntu/.venv/lib/python3.10/site-packages (from pydantic<3.0.0,>=2.7.4->langchain-classic<2.0.0,>=1.0.0->langchain-community) (2.41.4)\n",
      "Requirement already satisfied: typing-inspection>=0.4.2 in /home/ubuntu/.venv/lib/python3.10/site-packages (from pydantic<3.0.0,>=2.7.4->langchain-classic<2.0.0,>=1.0.0->langchain-community) (0.4.2)\n",
      "Requirement already satisfied: python-dotenv>=0.21.0 in /home/ubuntu/.venv/lib/python3.10/site-packages (from pydantic-settings<3.0.0,>=2.10.1->langchain-community) (1.1.1)\n",
      "Requirement already satisfied: charset_normalizer<4,>=2 in /home/ubuntu/.venv/lib/python3.10/site-packages (from requests<3.0.0,>=2.32.5->langchain-community) (3.4.4)\n",
      "Requirement already satisfied: urllib3<3,>=1.21.1 in /home/ubuntu/.venv/lib/python3.10/site-packages (from requests<3.0.0,>=2.32.5->langchain-community) (2.5.0)\n",
      "Requirement already satisfied: greenlet>=1 in /home/ubuntu/.venv/lib/python3.10/site-packages (from SQLAlchemy<3.0.0,>=1.4.0->langchain-community) (3.2.4)\n",
      "Requirement already satisfied: mypy-extensions>=0.3.0 in /home/ubuntu/.venv/lib/python3.10/site-packages (from typing-inspect<1,>=0.4.0->dataclasses-json<0.7.0,>=0.6.7->langchain-community) (1.1.0)\n",
      "Requirement already satisfied: exceptiongroup>=1.0.2 in /home/ubuntu/.venv/lib/python3.10/site-packages (from anyio->httpx<1,>=0.23.0->langsmith<1.0.0,>=0.1.125->langchain-community) (1.3.0)\n",
      "Requirement already satisfied: sniffio>=1.1 in /home/ubuntu/.venv/lib/python3.10/site-packages (from anyio->httpx<1,>=0.23.0->langsmith<1.0.0,>=0.1.125->langchain-community) (1.3.1)\n",
      "Note: you may need to restart the kernel to use updated packages.\n"
     ]
    }
   ],
   "source": [
    "pip install -U langchain-community"
   ]
  },
  {
   "cell_type": "code",
   "execution_count": 10,
   "id": "cb64b0b6",
   "metadata": {},
   "outputs": [],
   "source": [
    "# 대화 히스토리를 파일로 (JSON)으로 저장하는 법\n",
    "from langchain_community.chat_message_histories import FileChatMessageHistory"
   ]
  },
  {
   "cell_type": "code",
   "execution_count": 11,
   "id": "63983d24",
   "metadata": {},
   "outputs": [],
   "source": [
    "from langchain_core.messages import HumanMessage, AIMessage"
   ]
  },
  {
   "cell_type": "code",
   "execution_count": 12,
   "id": "ea9179b1",
   "metadata": {},
   "outputs": [],
   "source": [
    "#1) FileChatMessageHistory 생성\n",
    "history = FileChatMessageHistory(\"chat_history_json\")"
   ]
  },
  {
   "cell_type": "code",
   "execution_count": 13,
   "id": "4746e8af",
   "metadata": {},
   "outputs": [
    {
     "name": "stdout",
     "output_type": "stream",
     "text": [
      "=== 대화 이력 ===\n",
      "🧑 사용자: 안녕?\n",
      "🧑 사용자: 안녕?\n",
      "🤖 AI: 안녕하세요! 만나서 반가워요.\n",
      "🧑 사용자: 안녕?\n",
      "🤖 AI: 안녕하세요! 만나서 반가워요.\n",
      "🧑 사용자: 안녕?\n",
      "🤖 AI: 안녕하세요! 만나서 반가워요.\n"
     ]
    }
   ],
   "source": [
    "#2) 사용자 메시지 추가\n",
    "history.add_message(HumanMessage(content=\"안녕?\"))\n",
    "history.add_message(AIMessage(content=\"안녕하세요! 만나서 반가워요.\"))\n",
    "\n",
    "# 3) 현재 메시지 확인\n",
    "print(\"=== 대화 이력 ===\")\n",
    "for msg in history.messages:\n",
    "    role = \"🧑 사용자\" if msg.type == \"human\" else \"🤖 AI\"\n",
    "    print(f\"{role}: {msg.content}\")\n",
    "\n",
    "# 4) 프로그램 종료 후 다시 실행해도 chat_history.json 파일에 저장된 내용이 유지됨\n"
   ]
  },
  {
   "cell_type": "code",
   "execution_count": 14,
   "id": "d66d54c6",
   "metadata": {},
   "outputs": [
    {
     "data": {
      "text/plain": [
       "<function dir>"
      ]
     },
     "execution_count": 14,
     "metadata": {},
     "output_type": "execute_result"
    }
   ],
   "source": [
    "dir"
   ]
  },
  {
   "cell_type": "code",
   "execution_count": 15,
   "id": "3313047c",
   "metadata": {},
   "outputs": [],
   "source": [
    "# 러너블 객체와 함께 연동하는 법\n",
    "# 요즘 스타일: Conversation Chain -> RunnableWithMessageHistory 로 변경\n",
    "from langchain_openai import ChatOpenAI\n",
    "from langchain_core.messages import HumanMessage\n",
    "from langchain_core.chat_history import InMemoryChatMessageHistory\n",
    "from langchain_core.runnables.history import RunnableWithMessageHistory "
   ]
  },
  {
   "cell_type": "code",
   "execution_count": 16,
   "id": "6dd2e97c",
   "metadata": {},
   "outputs": [],
   "source": [
    "# [1] LLM 모델 정의\n",
    "llm = ChatOpenAI(model = \"gpt-4o-mini\", temperature = 0.3)"
   ]
  },
  {
   "cell_type": "code",
   "execution_count": 17,
   "id": "9c08677e",
   "metadata": {},
   "outputs": [],
   "source": [
    "# [2] session별 대화 기록 저장소\n",
    "store = {}  #왜 딕셔너리인지?"
   ]
  },
  {
   "cell_type": "code",
   "execution_count": 18,
   "id": "d6e948cb",
   "metadata": {},
   "outputs": [],
   "source": [
    "def get_session_history(session_id: str):\n",
    "    \"\"\" 세션 id 별로 대화 기록을 저장하고 불러오는 함수\"\"\"\n",
    "    if session_id not in store:\n",
    "        store[session_id] = InMemoryChatMessageHistory()\n",
    "    return store[session_id]\n",
    "    "
   ]
  },
  {
   "cell_type": "code",
   "execution_count": 19,
   "id": "67f1d30e",
   "metadata": {},
   "outputs": [],
   "source": [
    "# [3] RunnableWithMessageHistory 구성\n",
    "conversation = RunnableWithMessageHistory(\n",
    "    llm,\n",
    "    get_session_history\n",
    ")"
   ]
  },
  {
   "cell_type": "code",
   "execution_count": 20,
   "id": "fe019d76",
   "metadata": {},
   "outputs": [],
   "source": [
    "# [4] session id 설정\n",
    "config = {\"configurable\":{\"session_id\":\"chat-001\"}}"
   ]
  },
  {
   "cell_type": "code",
   "execution_count": 21,
   "id": "d3bd563a",
   "metadata": {},
   "outputs": [
    {
     "name": "stdout",
     "output_type": "stream",
     "text": [
      "🤖: 안녕하세요, 홍길동님! 만나서 반갑습니다. 어떻게 도와드릴까요?\n",
      "🤖: 당신의 이름은 홍길동입니다! 다른 질문이나 도움이 필요하신 것이 있나요?\n"
     ]
    }
   ],
   "source": [
    "response1 = conversation.invoke([HumanMessage(content=\"안녕? 나는 홍길동이야!\")], config=config)\n",
    "print(\"🤖:\", response1.content)\n",
    "\n",
    "response2 = conversation.invoke([HumanMessage(content=\"내 이름이 뭐지?\")], config=config)\n",
    "print(\"🤖:\", response2.content)\n",
    "\n",
    "# 이 코드를 실행하면 history_user-001.json 파일이 자동으로 생성되고,\n",
    "# 모든 대화 내용이 파일에 순차적으로 누적 저장됩니다."
   ]
  },
  {
   "cell_type": "code",
   "execution_count": null,
   "id": "97681c11",
   "metadata": {},
   "outputs": [],
   "source": [
    "# [5] RedisChatMessageHistory\n",
    "# 메모리에 휘발되는 InMemoryChatMessageHistory 대신 Redis DB 서버에 대화 내용을 저장해서 \n",
    "# 프로그램을 꺼도, 혹은 여러 사용자가 동시에 접속해도 이전 대화가 유지되는 구조"
   ]
  },
  {
   "cell_type": "code",
   "execution_count": 22,
   "id": "2dd98ad7",
   "metadata": {},
   "outputs": [
    {
     "name": "stdout",
     "output_type": "stream",
     "text": [
      "Collecting redis\n",
      "  Downloading redis-7.0.0-py3-none-any.whl.metadata (10 kB)\n",
      "Requirement already satisfied: async-timeout>=4.0.3 in /home/ubuntu/.venv/lib/python3.10/site-packages (from redis) (4.0.3)\n",
      "Downloading redis-7.0.0-py3-none-any.whl (339 kB)\n",
      "Installing collected packages: redis\n",
      "Successfully installed redis-7.0.0\n"
     ]
    }
   ],
   "source": [
    "!pip install redis"
   ]
  },
  {
   "cell_type": "code",
   "execution_count": 23,
   "id": "b4abc591",
   "metadata": {},
   "outputs": [],
   "source": [
    "from langchain_community.chat_message_histories import RedisChatMessageHistory\n",
    "from langchain_core.messages import HumanMessage, AIMessage"
   ]
  },
  {
   "cell_type": "code",
   "execution_count": 24,
   "id": "f914b070",
   "metadata": {},
   "outputs": [],
   "source": [
    "# 1) Redis 서버 연결 설정\n",
    "# host, port, session_id는 자유롭게 변경 가능\n",
    "history = RedisChatMessageHistory(\n",
    "    url=\"redis://localhost:6379/0\",  # Redis 서버 주소\n",
    "    session_id=\"user-001\"            # 세션 구분용 ID\n",
    ")"
   ]
  },
  {
   "cell_type": "code",
   "execution_count": 26,
   "id": "8ba01a94",
   "metadata": {},
   "outputs": [],
   "source": [
    "# 2) 메시지 추가\n",
    "history.add_message(HumanMessage(content=\"안녕?\"))\n",
    "history.add_message(AIMessage(content=\"안녕하세요! 반가워요\"))"
   ]
  },
  {
   "cell_type": "code",
   "execution_count": 27,
   "id": "53946a77",
   "metadata": {},
   "outputs": [
    {
     "name": "stdout",
     "output_type": "stream",
     "text": [
      "=== Redis 저장된 대화 이력 ===\n",
      "사용자: 안녕?\n",
      "AI: 안녕하세요! 반가워요\n"
     ]
    }
   ],
   "source": [
    "# 3) 현재 대화 이력 확인\n",
    "print(\"=== Redis 저장된 대화 이력 ===\")\n",
    "for msg in history.messages:\n",
    "    role = \"사용자\" if msg.type == \"human\" else \"AI\"\n",
    "    print(f\"{role}: {msg.content}\")\n",
    "\n",
    "# Redis 내부에 다음과 같이 저장됨\n",
    "# KEY: chat_history:user-001\n",
    "# VALUE: [\n",
    "#   {\"type\": \"human\", \"content\": \"안녕?\"},\n",
    "#   {\"type\": \"AI\", \"content\": \"안녕하세요! 반가워요\"}\n",
    "# ]"
   ]
  },
  {
   "cell_type": "code",
   "execution_count": 28,
   "id": "fa532011",
   "metadata": {},
   "outputs": [
    {
     "name": "stdout",
     "output_type": "stream",
     "text": [
      "📦 Redis에 저장된 키와 내용:\n",
      "==================================================\n",
      "🔑 message_store:user-001  |  타입: list\n",
      "  💬 1. {\n",
      "    \"type\": \"ai\",\n",
      "    \"data\": {\"content\": \"안녕하세요! 반가워요\"}\n",
      "  }\n",
      "  💬 2. {\n",
      "    \"type\": \"human\",\n",
      "    \"data\": {\"content\": \"안녕?\"}\n",
      "  }\n",
      "------------------------------------------------------------\n"
     ]
    }
   ],
   "source": [
    "# Redis에 저장된 키와 내용 확인하기 \n",
    "import redis\n",
    "import json\n",
    "\n",
    "#  Redis 연결\n",
    "r = redis.Redis(host='localhost', port=6379, db=0)\n",
    "\n",
    "#  모든 키 확인\n",
    "keys = r.keys('*')\n",
    "\n",
    "if not keys:\n",
    "    print(\"❌ 현재 Redis에 저장된 키가 없습니다.\")\n",
    "else:\n",
    "    print(\"📦 Redis에 저장된 키와 내용:\")\n",
    "    print(\"=\" * 50)\n",
    "\n",
    "    for k in keys:\n",
    "        key = k.decode()\n",
    "        dtype = r.type(k).decode()\n",
    "\n",
    "        print(f\"🔑 {key}  |  타입: {dtype}\")\n",
    "\n",
    "        if dtype == \"list\":\n",
    "            messages = r.lrange(k, 0, -1)\n",
    "            for i, msg in enumerate(messages, 1):\n",
    "                try:\n",
    "                    data = json.loads(msg)\n",
    "                    msg_type = data.get(\"type\", \"\")\n",
    "                    content = data.get(\"data\", {}).get(\"content\", \"\")\n",
    "                    # 보기 좋은 출력 포맷\n",
    "                    print(f\"  💬 {i}. {{\")\n",
    "                    print(f'    \"type\": \"{msg_type}\",')\n",
    "                    print(f'    \"data\": {{\"content\": \"{content}\"}}')\n",
    "                    print(\"  }\")\n",
    "                except Exception:\n",
    "                    print(f\"  💬 {i}. {msg.decode(errors='ignore')}\")\n",
    "            print(\"-\" * 60)\n"
   ]
  },
  {
   "cell_type": "code",
   "execution_count": 29,
   "id": "6b8f80b7",
   "metadata": {},
   "outputs": [
    {
     "name": "stdout",
     "output_type": "stream",
     "text": [
      "🤖: 안녕하세요, 홍길동님! 만나서 반갑습니다. 어떻게 도와드릴까요?\n",
      "🤖: 당신의 이름은 홍길동입니다! 다른 질문이나 궁금한 점이 있으신가요?\n",
      "\n",
      "=== Redis 저장된 대화 이력 ===\n",
      "🧑 사용자: 안녕? 나는 홍길동이야!\n",
      "🤖 AI: 안녕하세요, 홍길동님! 만나서 반갑습니다. 어떻게 도와드릴까요?\n",
      "🧑 사용자: 내 이름이 뭐지?\n",
      "🤖 AI: 당신의 이름은 홍길동입니다! 다른 질문이나 궁금한 점이 있으신가요?\n"
     ]
    }
   ],
   "source": [
    "from langchain_openai import ChatOpenAI\n",
    "from langchain_core.messages import HumanMessage\n",
    "from langchain_community.chat_message_histories import RedisChatMessageHistory\n",
    "from langchain_core.runnables.history import RunnableWithMessageHistory\n",
    "\n",
    "# 1) LLM 모델 정의\n",
    "llm = ChatOpenAI(model=\"gpt-4o-mini\", temperature=0.4)\n",
    "\n",
    "# 2) Redis 기반 대화 저장소 함수\n",
    "def get_session_history(session_id: str):\n",
    "    return RedisChatMessageHistory(\n",
    "        url=\"redis://localhost:6379/0\",\n",
    "        session_id=session_id\n",
    "    )\n",
    "\n",
    "# 3) RunnableWithMessageHistory 생성\n",
    "conversation = RunnableWithMessageHistory(llm, get_session_history)\n",
    "\n",
    "# 4) 세션 설정\n",
    "config = {\"configurable\": {\"session_id\": \"chat-redis-001\"}}\n",
    "\n",
    "# 5) 대화 실행\n",
    "response1 = conversation.invoke([HumanMessage(content=\"안녕? 나는 홍길동이야!\")], config=config)\n",
    "print(\"🤖:\", response1.content)\n",
    "\n",
    "response2 = conversation.invoke([HumanMessage(content=\"내 이름이 뭐지?\")], config=config)\n",
    "print(\"🤖:\", response2.content)\n",
    "\n",
    "# 6) Redis에 저장된 대화 확인\n",
    "history = get_session_history(\"chat-redis-001\")\n",
    "print(\"\\n=== Redis 저장된 대화 이력 ===\")\n",
    "for msg in history.messages:\n",
    "    role = \"🧑 사용자\" if msg.type == \"human\" else \"🤖 AI\"\n",
    "    print(f\"{role}: {msg.content}\")\n"
   ]
  },
  {
   "cell_type": "code",
   "execution_count": null,
   "id": "1c85b239",
   "metadata": {},
   "outputs": [],
   "source": [
    "### redis 를 쓰고 나면 어딘가 백그라운드에서 돌아가고 있을 것\n",
    "### 터미널에서 끄고 켜는 것 가능\n",
    "# sudo systemctl stop redis-server\n",
    "# sudo systemctl status redis-server\n",
    "\n",
    "# 다시 켜는 방법\n",
    "# sudo systemctl start redis-server"
   ]
  },
  {
   "cell_type": "markdown",
   "id": "89c84011",
   "metadata": {},
   "source": [
    "### SQL - SQLChatMessageHistory"
   ]
  },
  {
   "cell_type": "code",
   "execution_count": 31,
   "id": "fe3e5744",
   "metadata": {},
   "outputs": [
    {
     "name": "stdout",
     "output_type": "stream",
     "text": [
      "Requirement already satisfied: sqlalchemy in /home/ubuntu/.venv/lib/python3.10/site-packages (2.0.44)\n",
      "Requirement already satisfied: greenlet>=1 in /home/ubuntu/.venv/lib/python3.10/site-packages (from sqlalchemy) (3.2.4)\n",
      "Requirement already satisfied: typing-extensions>=4.6.0 in /home/ubuntu/.venv/lib/python3.10/site-packages (from sqlalchemy) (4.15.0)\n"
     ]
    }
   ],
   "source": [
    "!pip install sqlalchemy"
   ]
  },
  {
   "cell_type": "code",
   "execution_count": 38,
   "id": "e727f12e",
   "metadata": {},
   "outputs": [
    {
     "name": "stdout",
     "output_type": "stream",
     "text": [
      "Requirement already satisfied: langchain-community in /home/ubuntu/.venv/lib/python3.10/site-packages (0.4)\n",
      "Requirement already satisfied: langchain-core<2.0.0,>=1.0.0 in /home/ubuntu/.venv/lib/python3.10/site-packages (from langchain-community) (1.0.0)\n",
      "Requirement already satisfied: langchain-classic<2.0.0,>=1.0.0 in /home/ubuntu/.venv/lib/python3.10/site-packages (from langchain-community) (1.0.0)\n",
      "Requirement already satisfied: SQLAlchemy<3.0.0,>=1.4.0 in /home/ubuntu/.venv/lib/python3.10/site-packages (from langchain-community) (2.0.44)\n",
      "Requirement already satisfied: requests<3.0.0,>=2.32.5 in /home/ubuntu/.venv/lib/python3.10/site-packages (from langchain-community) (2.32.5)\n",
      "Requirement already satisfied: PyYAML<7.0.0,>=5.3.0 in /home/ubuntu/.venv/lib/python3.10/site-packages (from langchain-community) (6.0.3)\n",
      "Requirement already satisfied: aiohttp<4.0.0,>=3.8.3 in /home/ubuntu/.venv/lib/python3.10/site-packages (from langchain-community) (3.13.1)\n",
      "Requirement already satisfied: tenacity!=8.4.0,<10.0.0,>=8.1.0 in /home/ubuntu/.venv/lib/python3.10/site-packages (from langchain-community) (9.1.2)\n",
      "Requirement already satisfied: dataclasses-json<0.7.0,>=0.6.7 in /home/ubuntu/.venv/lib/python3.10/site-packages (from langchain-community) (0.6.7)\n",
      "Requirement already satisfied: pydantic-settings<3.0.0,>=2.10.1 in /home/ubuntu/.venv/lib/python3.10/site-packages (from langchain-community) (2.11.0)\n",
      "Requirement already satisfied: langsmith<1.0.0,>=0.1.125 in /home/ubuntu/.venv/lib/python3.10/site-packages (from langchain-community) (0.4.37)\n",
      "Requirement already satisfied: httpx-sse<1.0.0,>=0.4.0 in /home/ubuntu/.venv/lib/python3.10/site-packages (from langchain-community) (0.4.3)\n",
      "Requirement already satisfied: numpy>=1.26.2 in /home/ubuntu/.venv/lib/python3.10/site-packages (from langchain-community) (2.2.6)\n",
      "Requirement already satisfied: aiohappyeyeballs>=2.5.0 in /home/ubuntu/.venv/lib/python3.10/site-packages (from aiohttp<4.0.0,>=3.8.3->langchain-community) (2.6.1)\n",
      "Requirement already satisfied: aiosignal>=1.4.0 in /home/ubuntu/.venv/lib/python3.10/site-packages (from aiohttp<4.0.0,>=3.8.3->langchain-community) (1.4.0)\n",
      "Requirement already satisfied: async-timeout<6.0,>=4.0 in /home/ubuntu/.venv/lib/python3.10/site-packages (from aiohttp<4.0.0,>=3.8.3->langchain-community) (4.0.3)\n",
      "Requirement already satisfied: attrs>=17.3.0 in /home/ubuntu/.venv/lib/python3.10/site-packages (from aiohttp<4.0.0,>=3.8.3->langchain-community) (25.4.0)\n",
      "Requirement already satisfied: frozenlist>=1.1.1 in /home/ubuntu/.venv/lib/python3.10/site-packages (from aiohttp<4.0.0,>=3.8.3->langchain-community) (1.8.0)\n",
      "Requirement already satisfied: multidict<7.0,>=4.5 in /home/ubuntu/.venv/lib/python3.10/site-packages (from aiohttp<4.0.0,>=3.8.3->langchain-community) (6.7.0)\n",
      "Requirement already satisfied: propcache>=0.2.0 in /home/ubuntu/.venv/lib/python3.10/site-packages (from aiohttp<4.0.0,>=3.8.3->langchain-community) (0.4.1)\n",
      "Requirement already satisfied: yarl<2.0,>=1.17.0 in /home/ubuntu/.venv/lib/python3.10/site-packages (from aiohttp<4.0.0,>=3.8.3->langchain-community) (1.22.0)\n",
      "Requirement already satisfied: marshmallow<4.0.0,>=3.18.0 in /home/ubuntu/.venv/lib/python3.10/site-packages (from dataclasses-json<0.7.0,>=0.6.7->langchain-community) (3.26.1)\n",
      "Requirement already satisfied: typing-inspect<1,>=0.4.0 in /home/ubuntu/.venv/lib/python3.10/site-packages (from dataclasses-json<0.7.0,>=0.6.7->langchain-community) (0.9.0)\n",
      "Requirement already satisfied: langchain-text-splitters<2.0.0,>=1.0.0 in /home/ubuntu/.venv/lib/python3.10/site-packages (from langchain-classic<2.0.0,>=1.0.0->langchain-community) (1.0.0)\n",
      "Requirement already satisfied: pydantic<3.0.0,>=2.7.4 in /home/ubuntu/.venv/lib/python3.10/site-packages (from langchain-classic<2.0.0,>=1.0.0->langchain-community) (2.12.3)\n",
      "Requirement already satisfied: jsonpatch<2.0.0,>=1.33.0 in /home/ubuntu/.venv/lib/python3.10/site-packages (from langchain-core<2.0.0,>=1.0.0->langchain-community) (1.33)\n",
      "Requirement already satisfied: packaging<26.0.0,>=23.2.0 in /home/ubuntu/.venv/lib/python3.10/site-packages (from langchain-core<2.0.0,>=1.0.0->langchain-community) (25.0)\n",
      "Requirement already satisfied: typing-extensions<5.0.0,>=4.7.0 in /home/ubuntu/.venv/lib/python3.10/site-packages (from langchain-core<2.0.0,>=1.0.0->langchain-community) (4.15.0)\n",
      "Requirement already satisfied: jsonpointer>=1.9 in /home/ubuntu/.venv/lib/python3.10/site-packages (from jsonpatch<2.0.0,>=1.33.0->langchain-core<2.0.0,>=1.0.0->langchain-community) (3.0.0)\n",
      "Requirement already satisfied: httpx<1,>=0.23.0 in /home/ubuntu/.venv/lib/python3.10/site-packages (from langsmith<1.0.0,>=0.1.125->langchain-community) (0.28.1)\n",
      "Requirement already satisfied: orjson>=3.9.14 in /home/ubuntu/.venv/lib/python3.10/site-packages (from langsmith<1.0.0,>=0.1.125->langchain-community) (3.11.3)\n",
      "Requirement already satisfied: requests-toolbelt>=1.0.0 in /home/ubuntu/.venv/lib/python3.10/site-packages (from langsmith<1.0.0,>=0.1.125->langchain-community) (1.0.0)\n",
      "Requirement already satisfied: zstandard>=0.23.0 in /home/ubuntu/.venv/lib/python3.10/site-packages (from langsmith<1.0.0,>=0.1.125->langchain-community) (0.25.0)\n",
      "Requirement already satisfied: anyio in /home/ubuntu/.venv/lib/python3.10/site-packages (from httpx<1,>=0.23.0->langsmith<1.0.0,>=0.1.125->langchain-community) (4.11.0)\n",
      "Requirement already satisfied: certifi in /home/ubuntu/.venv/lib/python3.10/site-packages (from httpx<1,>=0.23.0->langsmith<1.0.0,>=0.1.125->langchain-community) (2025.10.5)\n",
      "Requirement already satisfied: httpcore==1.* in /home/ubuntu/.venv/lib/python3.10/site-packages (from httpx<1,>=0.23.0->langsmith<1.0.0,>=0.1.125->langchain-community) (1.0.9)\n",
      "Requirement already satisfied: idna in /home/ubuntu/.venv/lib/python3.10/site-packages (from httpx<1,>=0.23.0->langsmith<1.0.0,>=0.1.125->langchain-community) (3.11)\n",
      "Requirement already satisfied: h11>=0.16 in /home/ubuntu/.venv/lib/python3.10/site-packages (from httpcore==1.*->httpx<1,>=0.23.0->langsmith<1.0.0,>=0.1.125->langchain-community) (0.16.0)\n",
      "Requirement already satisfied: annotated-types>=0.6.0 in /home/ubuntu/.venv/lib/python3.10/site-packages (from pydantic<3.0.0,>=2.7.4->langchain-classic<2.0.0,>=1.0.0->langchain-community) (0.7.0)\n",
      "Requirement already satisfied: pydantic-core==2.41.4 in /home/ubuntu/.venv/lib/python3.10/site-packages (from pydantic<3.0.0,>=2.7.4->langchain-classic<2.0.0,>=1.0.0->langchain-community) (2.41.4)\n",
      "Requirement already satisfied: typing-inspection>=0.4.2 in /home/ubuntu/.venv/lib/python3.10/site-packages (from pydantic<3.0.0,>=2.7.4->langchain-classic<2.0.0,>=1.0.0->langchain-community) (0.4.2)\n",
      "Requirement already satisfied: python-dotenv>=0.21.0 in /home/ubuntu/.venv/lib/python3.10/site-packages (from pydantic-settings<3.0.0,>=2.10.1->langchain-community) (1.1.1)\n",
      "Requirement already satisfied: charset_normalizer<4,>=2 in /home/ubuntu/.venv/lib/python3.10/site-packages (from requests<3.0.0,>=2.32.5->langchain-community) (3.4.4)\n",
      "Requirement already satisfied: urllib3<3,>=1.21.1 in /home/ubuntu/.venv/lib/python3.10/site-packages (from requests<3.0.0,>=2.32.5->langchain-community) (2.5.0)\n",
      "Requirement already satisfied: greenlet>=1 in /home/ubuntu/.venv/lib/python3.10/site-packages (from SQLAlchemy<3.0.0,>=1.4.0->langchain-community) (3.2.4)\n",
      "Requirement already satisfied: mypy-extensions>=0.3.0 in /home/ubuntu/.venv/lib/python3.10/site-packages (from typing-inspect<1,>=0.4.0->dataclasses-json<0.7.0,>=0.6.7->langchain-community) (1.1.0)\n",
      "Requirement already satisfied: exceptiongroup>=1.0.2 in /home/ubuntu/.venv/lib/python3.10/site-packages (from anyio->httpx<1,>=0.23.0->langsmith<1.0.0,>=0.1.125->langchain-community) (1.3.0)\n",
      "Requirement already satisfied: sniffio>=1.1 in /home/ubuntu/.venv/lib/python3.10/site-packages (from anyio->httpx<1,>=0.23.0->langsmith<1.0.0,>=0.1.125->langchain-community) (1.3.1)\n"
     ]
    }
   ],
   "source": [
    "!pip install langchain-community"
   ]
  },
  {
   "cell_type": "code",
   "execution_count": 40,
   "id": "07cc6929",
   "metadata": {},
   "outputs": [],
   "source": [
    "from sqlalchemy import create_engine\n",
    "from langchain_community.chat_message_histories import SQLChatMessageHistory"
   ]
  },
  {
   "cell_type": "code",
   "execution_count": 41,
   "id": "63d41338",
   "metadata": {},
   "outputs": [],
   "source": [
    "#1) DB 연결엔진 생성\n",
    "engine = create_engine(\"sqlite:///chat_history.db\")"
   ]
  },
  {
   "cell_type": "code",
   "execution_count": null,
   "id": "cbafe9e8",
   "metadata": {},
   "outputs": [],
   "source": [
    "# 2) SQLChatMessageHistory 객체 생성"
   ]
  },
  {
   "cell_type": "code",
   "execution_count": 42,
   "id": "65855d60",
   "metadata": {},
   "outputs": [
    {
     "ename": "ConnectionError",
     "evalue": "Error 111 connecting to localhost:6379. Connection refused.",
     "output_type": "error",
     "traceback": [
      "\u001b[0;31m---------------------------------------------------------------------------\u001b[0m",
      "\u001b[0;31mConnectionError\u001b[0m                           Traceback (most recent call last)",
      "File \u001b[0;32m~/.venv/lib/python3.10/site-packages/redis/connection.py:2608\u001b[0m, in \u001b[0;36mConnectionPool.get_connection\u001b[0;34m(self, command_name, *keys, **options)\u001b[0m\n\u001b[1;32m   2606\u001b[0m \u001b[38;5;28;01mtry\u001b[39;00m:\n\u001b[1;32m   2607\u001b[0m     \u001b[38;5;28;01mif\u001b[39;00m (\n\u001b[0;32m-> 2608\u001b[0m         \u001b[43mconnection\u001b[49m\u001b[38;5;241;43m.\u001b[39;49m\u001b[43mcan_read\u001b[49m\u001b[43m(\u001b[49m\u001b[43m)\u001b[49m\n\u001b[1;32m   2609\u001b[0m         \u001b[38;5;129;01mand\u001b[39;00m \u001b[38;5;28mself\u001b[39m\u001b[38;5;241m.\u001b[39mcache \u001b[38;5;129;01mis\u001b[39;00m \u001b[38;5;28;01mNone\u001b[39;00m\n\u001b[1;32m   2610\u001b[0m         \u001b[38;5;129;01mand\u001b[39;00m \u001b[38;5;129;01mnot\u001b[39;00m \u001b[38;5;28mself\u001b[39m\u001b[38;5;241m.\u001b[39mmaint_notifications_enabled()\n\u001b[1;32m   2611\u001b[0m     ):\n\u001b[1;32m   2612\u001b[0m         \u001b[38;5;28;01mraise\u001b[39;00m \u001b[38;5;167;01mConnectionError\u001b[39;00m(\u001b[38;5;124m\"\u001b[39m\u001b[38;5;124mConnection has data\u001b[39m\u001b[38;5;124m\"\u001b[39m)\n",
      "File \u001b[0;32m~/.venv/lib/python3.10/site-packages/redis/connection.py:1110\u001b[0m, in \u001b[0;36mAbstractConnection.can_read\u001b[0;34m(self, timeout)\u001b[0m\n\u001b[1;32m   1109\u001b[0m \u001b[38;5;28;01mtry\u001b[39;00m:\n\u001b[0;32m-> 1110\u001b[0m     \u001b[38;5;28;01mreturn\u001b[39;00m \u001b[38;5;28;43mself\u001b[39;49m\u001b[38;5;241;43m.\u001b[39;49m\u001b[43m_parser\u001b[49m\u001b[38;5;241;43m.\u001b[39;49m\u001b[43mcan_read\u001b[49m\u001b[43m(\u001b[49m\u001b[43mtimeout\u001b[49m\u001b[43m)\u001b[49m\n\u001b[1;32m   1112\u001b[0m \u001b[38;5;28;01mexcept\u001b[39;00m \u001b[38;5;167;01mOSError\u001b[39;00m \u001b[38;5;28;01mas\u001b[39;00m e:\n",
      "File \u001b[0;32m~/.venv/lib/python3.10/site-packages/redis/_parsers/base.py:158\u001b[0m, in \u001b[0;36m_RESPBase.can_read\u001b[0;34m(self, timeout)\u001b[0m\n\u001b[1;32m    157\u001b[0m \u001b[38;5;28;01mdef\u001b[39;00m\u001b[38;5;250m \u001b[39m\u001b[38;5;21mcan_read\u001b[39m(\u001b[38;5;28mself\u001b[39m, timeout):\n\u001b[0;32m--> 158\u001b[0m     \u001b[38;5;28;01mreturn\u001b[39;00m \u001b[38;5;28mself\u001b[39m\u001b[38;5;241m.\u001b[39m_buffer \u001b[38;5;129;01mand\u001b[39;00m \u001b[38;5;28;43mself\u001b[39;49m\u001b[38;5;241;43m.\u001b[39;49m\u001b[43m_buffer\u001b[49m\u001b[38;5;241;43m.\u001b[39;49m\u001b[43mcan_read\u001b[49m\u001b[43m(\u001b[49m\u001b[43mtimeout\u001b[49m\u001b[43m)\u001b[49m\n",
      "File \u001b[0;32m~/.venv/lib/python3.10/site-packages/redis/_parsers/socket.py:95\u001b[0m, in \u001b[0;36mSocketBuffer.can_read\u001b[0;34m(self, timeout)\u001b[0m\n\u001b[1;32m     94\u001b[0m \u001b[38;5;28;01mdef\u001b[39;00m\u001b[38;5;250m \u001b[39m\u001b[38;5;21mcan_read\u001b[39m(\u001b[38;5;28mself\u001b[39m, timeout: \u001b[38;5;28mfloat\u001b[39m) \u001b[38;5;241m-\u001b[39m\u001b[38;5;241m>\u001b[39m \u001b[38;5;28mbool\u001b[39m:\n\u001b[0;32m---> 95\u001b[0m     \u001b[38;5;28;01mreturn\u001b[39;00m \u001b[38;5;28mbool\u001b[39m(\u001b[38;5;28mself\u001b[39m\u001b[38;5;241m.\u001b[39munread_bytes()) \u001b[38;5;129;01mor\u001b[39;00m \u001b[38;5;28;43mself\u001b[39;49m\u001b[38;5;241;43m.\u001b[39;49m\u001b[43m_read_from_socket\u001b[49m\u001b[43m(\u001b[49m\n\u001b[1;32m     96\u001b[0m \u001b[43m        \u001b[49m\u001b[43mtimeout\u001b[49m\u001b[38;5;241;43m=\u001b[39;49m\u001b[43mtimeout\u001b[49m\u001b[43m,\u001b[49m\u001b[43m \u001b[49m\u001b[43mraise_on_timeout\u001b[49m\u001b[38;5;241;43m=\u001b[39;49m\u001b[38;5;28;43;01mFalse\u001b[39;49;00m\n\u001b[1;32m     97\u001b[0m \u001b[43m    \u001b[49m\u001b[43m)\u001b[49m\n",
      "File \u001b[0;32m~/.venv/lib/python3.10/site-packages/redis/_parsers/socket.py:68\u001b[0m, in \u001b[0;36mSocketBuffer._read_from_socket\u001b[0;34m(self, length, timeout, raise_on_timeout)\u001b[0m\n\u001b[1;32m     67\u001b[0m \u001b[38;5;28;01mif\u001b[39;00m \u001b[38;5;28misinstance\u001b[39m(data, \u001b[38;5;28mbytes\u001b[39m) \u001b[38;5;129;01mand\u001b[39;00m \u001b[38;5;28mlen\u001b[39m(data) \u001b[38;5;241m==\u001b[39m \u001b[38;5;241m0\u001b[39m:\n\u001b[0;32m---> 68\u001b[0m     \u001b[38;5;28;01mraise\u001b[39;00m \u001b[38;5;167;01mConnectionError\u001b[39;00m(SERVER_CLOSED_CONNECTION_ERROR)\n\u001b[1;32m     69\u001b[0m buf\u001b[38;5;241m.\u001b[39mwrite(data)\n",
      "\u001b[0;31mConnectionError\u001b[0m: Connection closed by server.",
      "\nDuring handling of the above exception, another exception occurred:\n",
      "\u001b[0;31mConnectionRefusedError\u001b[0m                    Traceback (most recent call last)",
      "File \u001b[0;32m~/.venv/lib/python3.10/site-packages/redis/connection.py:855\u001b[0m, in \u001b[0;36mAbstractConnection.connect_check_health\u001b[0;34m(self, check_health, retry_socket_connect)\u001b[0m\n\u001b[1;32m    854\u001b[0m \u001b[38;5;28;01mif\u001b[39;00m retry_socket_connect:\n\u001b[0;32m--> 855\u001b[0m     sock \u001b[38;5;241m=\u001b[39m \u001b[38;5;28;43mself\u001b[39;49m\u001b[38;5;241;43m.\u001b[39;49m\u001b[43mretry\u001b[49m\u001b[38;5;241;43m.\u001b[39;49m\u001b[43mcall_with_retry\u001b[49m\u001b[43m(\u001b[49m\n\u001b[1;32m    856\u001b[0m \u001b[43m        \u001b[49m\u001b[38;5;28;43;01mlambda\u001b[39;49;00m\u001b[43m:\u001b[49m\u001b[43m \u001b[49m\u001b[38;5;28;43mself\u001b[39;49m\u001b[38;5;241;43m.\u001b[39;49m\u001b[43m_connect\u001b[49m\u001b[43m(\u001b[49m\u001b[43m)\u001b[49m\u001b[43m,\u001b[49m\u001b[43m \u001b[49m\u001b[38;5;28;43;01mlambda\u001b[39;49;00m\u001b[43m \u001b[49m\u001b[43merror\u001b[49m\u001b[43m:\u001b[49m\u001b[43m \u001b[49m\u001b[38;5;28;43mself\u001b[39;49m\u001b[38;5;241;43m.\u001b[39;49m\u001b[43mdisconnect\u001b[49m\u001b[43m(\u001b[49m\u001b[43merror\u001b[49m\u001b[43m)\u001b[49m\n\u001b[1;32m    857\u001b[0m \u001b[43m    \u001b[49m\u001b[43m)\u001b[49m\n\u001b[1;32m    858\u001b[0m \u001b[38;5;28;01melse\u001b[39;00m:\n",
      "File \u001b[0;32m~/.venv/lib/python3.10/site-packages/redis/retry.py:116\u001b[0m, in \u001b[0;36mRetry.call_with_retry\u001b[0;34m(self, do, fail, is_retryable)\u001b[0m\n\u001b[1;32m    115\u001b[0m \u001b[38;5;28;01mtry\u001b[39;00m:\n\u001b[0;32m--> 116\u001b[0m     \u001b[38;5;28;01mreturn\u001b[39;00m \u001b[43mdo\u001b[49m\u001b[43m(\u001b[49m\u001b[43m)\u001b[49m\n\u001b[1;32m    117\u001b[0m \u001b[38;5;28;01mexcept\u001b[39;00m \u001b[38;5;28mself\u001b[39m\u001b[38;5;241m.\u001b[39m_supported_errors \u001b[38;5;28;01mas\u001b[39;00m error:\n",
      "File \u001b[0;32m~/.venv/lib/python3.10/site-packages/redis/connection.py:856\u001b[0m, in \u001b[0;36mAbstractConnection.connect_check_health.<locals>.<lambda>\u001b[0;34m()\u001b[0m\n\u001b[1;32m    854\u001b[0m \u001b[38;5;28;01mif\u001b[39;00m retry_socket_connect:\n\u001b[1;32m    855\u001b[0m     sock \u001b[38;5;241m=\u001b[39m \u001b[38;5;28mself\u001b[39m\u001b[38;5;241m.\u001b[39mretry\u001b[38;5;241m.\u001b[39mcall_with_retry(\n\u001b[0;32m--> 856\u001b[0m         \u001b[38;5;28;01mlambda\u001b[39;00m: \u001b[38;5;28;43mself\u001b[39;49m\u001b[38;5;241;43m.\u001b[39;49m\u001b[43m_connect\u001b[49m\u001b[43m(\u001b[49m\u001b[43m)\u001b[49m, \u001b[38;5;28;01mlambda\u001b[39;00m error: \u001b[38;5;28mself\u001b[39m\u001b[38;5;241m.\u001b[39mdisconnect(error)\n\u001b[1;32m    857\u001b[0m     )\n\u001b[1;32m    858\u001b[0m \u001b[38;5;28;01melse\u001b[39;00m:\n",
      "File \u001b[0;32m~/.venv/lib/python3.10/site-packages/redis/connection.py:1306\u001b[0m, in \u001b[0;36mConnection._connect\u001b[0;34m(self)\u001b[0m\n\u001b[1;32m   1305\u001b[0m \u001b[38;5;28;01mif\u001b[39;00m err \u001b[38;5;129;01mis\u001b[39;00m \u001b[38;5;129;01mnot\u001b[39;00m \u001b[38;5;28;01mNone\u001b[39;00m:\n\u001b[0;32m-> 1306\u001b[0m     \u001b[38;5;28;01mraise\u001b[39;00m err\n\u001b[1;32m   1307\u001b[0m \u001b[38;5;28;01mraise\u001b[39;00m \u001b[38;5;167;01mOSError\u001b[39;00m(\u001b[38;5;124m\"\u001b[39m\u001b[38;5;124msocket.getaddrinfo returned an empty list\u001b[39m\u001b[38;5;124m\"\u001b[39m)\n",
      "File \u001b[0;32m~/.venv/lib/python3.10/site-packages/redis/connection.py:1290\u001b[0m, in \u001b[0;36mConnection._connect\u001b[0;34m(self)\u001b[0m\n\u001b[1;32m   1289\u001b[0m \u001b[38;5;66;03m# connect\u001b[39;00m\n\u001b[0;32m-> 1290\u001b[0m \u001b[43msock\u001b[49m\u001b[38;5;241;43m.\u001b[39;49m\u001b[43mconnect\u001b[49m\u001b[43m(\u001b[49m\u001b[43msocket_address\u001b[49m\u001b[43m)\u001b[49m\n\u001b[1;32m   1292\u001b[0m \u001b[38;5;66;03m# set the socket_timeout now that we're connected\u001b[39;00m\n",
      "\u001b[0;31mConnectionRefusedError\u001b[0m: [Errno 111] Connection refused",
      "\nDuring handling of the above exception, another exception occurred:\n",
      "\u001b[0;31mConnectionError\u001b[0m                           Traceback (most recent call last)",
      "Cell \u001b[0;32mIn[42], line 3\u001b[0m\n\u001b[1;32m      1\u001b[0m \u001b[38;5;66;03m# 3) 메시지 추가 예시\u001b[39;00m\n\u001b[1;32m      2\u001b[0m \u001b[38;5;28;01mfrom\u001b[39;00m\u001b[38;5;250m \u001b[39m\u001b[38;5;21;01mlangchain_core\u001b[39;00m\u001b[38;5;21;01m.\u001b[39;00m\u001b[38;5;21;01mmessages\u001b[39;00m\u001b[38;5;250m \u001b[39m\u001b[38;5;28;01mimport\u001b[39;00m HumanMessage, AIMessage\n\u001b[0;32m----> 3\u001b[0m \u001b[43mhistory\u001b[49m\u001b[38;5;241;43m.\u001b[39;49m\u001b[43madd_message\u001b[49m\u001b[43m(\u001b[49m\u001b[43mHumanMessage\u001b[49m\u001b[43m(\u001b[49m\u001b[43mcontent\u001b[49m\u001b[38;5;241;43m=\u001b[39;49m\u001b[38;5;124;43m\"\u001b[39;49m\u001b[38;5;124;43m안녕?\u001b[39;49m\u001b[38;5;124;43m\"\u001b[39;49m\u001b[43m)\u001b[49m\u001b[43m)\u001b[49m\n\u001b[1;32m      4\u001b[0m history\u001b[38;5;241m.\u001b[39madd_message(AIMessage(content\u001b[38;5;241m=\u001b[39m\u001b[38;5;124m\"\u001b[39m\u001b[38;5;124m안녕하세요! 반가워요.\u001b[39m\u001b[38;5;124m\"\u001b[39m))\n\u001b[1;32m      6\u001b[0m \u001b[38;5;66;03m# 4) 저장된 대화 이력 확인\u001b[39;00m\n",
      "File \u001b[0;32m~/.venv/lib/python3.10/site-packages/langchain_community/chat_message_histories/redis.py:114\u001b[0m, in \u001b[0;36mRedisChatMessageHistory.add_message\u001b[0;34m(self, message)\u001b[0m\n\u001b[1;32m    112\u001b[0m \u001b[38;5;28;01mdef\u001b[39;00m\u001b[38;5;250m \u001b[39m\u001b[38;5;21madd_message\u001b[39m(\u001b[38;5;28mself\u001b[39m, message: BaseMessage) \u001b[38;5;241m-\u001b[39m\u001b[38;5;241m>\u001b[39m \u001b[38;5;28;01mNone\u001b[39;00m:\n\u001b[1;32m    113\u001b[0m \u001b[38;5;250m    \u001b[39m\u001b[38;5;124;03m\"\"\"Append the message to the record in Redis\"\"\"\u001b[39;00m\n\u001b[0;32m--> 114\u001b[0m     \u001b[38;5;28;43mself\u001b[39;49m\u001b[38;5;241;43m.\u001b[39;49m\u001b[43mredis_client\u001b[49m\u001b[38;5;241;43m.\u001b[39;49m\u001b[43mlpush\u001b[49m\u001b[43m(\u001b[49m\u001b[38;5;28;43mself\u001b[39;49m\u001b[38;5;241;43m.\u001b[39;49m\u001b[43mkey\u001b[49m\u001b[43m,\u001b[49m\u001b[43m \u001b[49m\u001b[43mjson\u001b[49m\u001b[38;5;241;43m.\u001b[39;49m\u001b[43mdumps\u001b[49m\u001b[43m(\u001b[49m\u001b[43mmessage_to_dict\u001b[49m\u001b[43m(\u001b[49m\u001b[43mmessage\u001b[49m\u001b[43m)\u001b[49m\u001b[43m)\u001b[49m\u001b[43m)\u001b[49m\n\u001b[1;32m    115\u001b[0m     \u001b[38;5;28;01mif\u001b[39;00m \u001b[38;5;28mself\u001b[39m\u001b[38;5;241m.\u001b[39mttl:\n\u001b[1;32m    116\u001b[0m         \u001b[38;5;28mself\u001b[39m\u001b[38;5;241m.\u001b[39mredis_client\u001b[38;5;241m.\u001b[39mexpire(\u001b[38;5;28mself\u001b[39m\u001b[38;5;241m.\u001b[39mkey, \u001b[38;5;28mself\u001b[39m\u001b[38;5;241m.\u001b[39mttl)\n",
      "File \u001b[0;32m~/.venv/lib/python3.10/site-packages/redis/commands/core.py:2703\u001b[0m, in \u001b[0;36mListCommands.lpush\u001b[0;34m(self, name, *values)\u001b[0m\n\u001b[1;32m   2697\u001b[0m \u001b[38;5;28;01mdef\u001b[39;00m\u001b[38;5;250m \u001b[39m\u001b[38;5;21mlpush\u001b[39m(\u001b[38;5;28mself\u001b[39m, name: \u001b[38;5;28mstr\u001b[39m, \u001b[38;5;241m*\u001b[39mvalues: FieldT) \u001b[38;5;241m-\u001b[39m\u001b[38;5;241m>\u001b[39m Union[Awaitable[\u001b[38;5;28mint\u001b[39m], \u001b[38;5;28mint\u001b[39m]:\n\u001b[1;32m   2698\u001b[0m \u001b[38;5;250m    \u001b[39m\u001b[38;5;124;03m\"\"\"\u001b[39;00m\n\u001b[1;32m   2699\u001b[0m \u001b[38;5;124;03m    Push ``values`` onto the head of the list ``name``\u001b[39;00m\n\u001b[1;32m   2700\u001b[0m \n\u001b[1;32m   2701\u001b[0m \u001b[38;5;124;03m    For more information, see https://redis.io/commands/lpush\u001b[39;00m\n\u001b[1;32m   2702\u001b[0m \u001b[38;5;124;03m    \"\"\"\u001b[39;00m\n\u001b[0;32m-> 2703\u001b[0m     \u001b[38;5;28;01mreturn\u001b[39;00m \u001b[38;5;28;43mself\u001b[39;49m\u001b[38;5;241;43m.\u001b[39;49m\u001b[43mexecute_command\u001b[49m\u001b[43m(\u001b[49m\u001b[38;5;124;43m\"\u001b[39;49m\u001b[38;5;124;43mLPUSH\u001b[39;49m\u001b[38;5;124;43m\"\u001b[39;49m\u001b[43m,\u001b[49m\u001b[43m \u001b[49m\u001b[43mname\u001b[49m\u001b[43m,\u001b[49m\u001b[43m \u001b[49m\u001b[38;5;241;43m*\u001b[39;49m\u001b[43mvalues\u001b[49m\u001b[43m)\u001b[49m\n",
      "File \u001b[0;32m~/.venv/lib/python3.10/site-packages/redis/client.py:657\u001b[0m, in \u001b[0;36mRedis.execute_command\u001b[0;34m(self, *args, **options)\u001b[0m\n\u001b[1;32m    656\u001b[0m \u001b[38;5;28;01mdef\u001b[39;00m\u001b[38;5;250m \u001b[39m\u001b[38;5;21mexecute_command\u001b[39m(\u001b[38;5;28mself\u001b[39m, \u001b[38;5;241m*\u001b[39margs, \u001b[38;5;241m*\u001b[39m\u001b[38;5;241m*\u001b[39moptions):\n\u001b[0;32m--> 657\u001b[0m     \u001b[38;5;28;01mreturn\u001b[39;00m \u001b[38;5;28;43mself\u001b[39;49m\u001b[38;5;241;43m.\u001b[39;49m\u001b[43m_execute_command\u001b[49m\u001b[43m(\u001b[49m\u001b[38;5;241;43m*\u001b[39;49m\u001b[43margs\u001b[49m\u001b[43m,\u001b[49m\u001b[43m \u001b[49m\u001b[38;5;241;43m*\u001b[39;49m\u001b[38;5;241;43m*\u001b[39;49m\u001b[43moptions\u001b[49m\u001b[43m)\u001b[49m\n",
      "File \u001b[0;32m~/.venv/lib/python3.10/site-packages/redis/client.py:663\u001b[0m, in \u001b[0;36mRedis._execute_command\u001b[0;34m(self, *args, **options)\u001b[0m\n\u001b[1;32m    661\u001b[0m pool \u001b[38;5;241m=\u001b[39m \u001b[38;5;28mself\u001b[39m\u001b[38;5;241m.\u001b[39mconnection_pool\n\u001b[1;32m    662\u001b[0m command_name \u001b[38;5;241m=\u001b[39m args[\u001b[38;5;241m0\u001b[39m]\n\u001b[0;32m--> 663\u001b[0m conn \u001b[38;5;241m=\u001b[39m \u001b[38;5;28mself\u001b[39m\u001b[38;5;241m.\u001b[39mconnection \u001b[38;5;129;01mor\u001b[39;00m \u001b[43mpool\u001b[49m\u001b[38;5;241;43m.\u001b[39;49m\u001b[43mget_connection\u001b[49m\u001b[43m(\u001b[49m\u001b[43m)\u001b[49m\n\u001b[1;32m    665\u001b[0m \u001b[38;5;28;01mif\u001b[39;00m \u001b[38;5;28mself\u001b[39m\u001b[38;5;241m.\u001b[39m_single_connection_client:\n\u001b[1;32m    666\u001b[0m     \u001b[38;5;28mself\u001b[39m\u001b[38;5;241m.\u001b[39msingle_connection_lock\u001b[38;5;241m.\u001b[39macquire()\n",
      "File \u001b[0;32m~/.venv/lib/python3.10/site-packages/redis/utils.py:196\u001b[0m, in \u001b[0;36mdeprecated_args.<locals>.decorator.<locals>.wrapper\u001b[0;34m(*args, **kwargs)\u001b[0m\n\u001b[1;32m    191\u001b[0m     \u001b[38;5;28;01melif\u001b[39;00m arg \u001b[38;5;129;01min\u001b[39;00m provided_args:\n\u001b[1;32m    192\u001b[0m         warn_deprecated_arg_usage(\n\u001b[1;32m    193\u001b[0m             arg, func\u001b[38;5;241m.\u001b[39m\u001b[38;5;18m__name__\u001b[39m, reason, version, stacklevel\u001b[38;5;241m=\u001b[39m\u001b[38;5;241m3\u001b[39m\n\u001b[1;32m    194\u001b[0m         )\n\u001b[0;32m--> 196\u001b[0m \u001b[38;5;28;01mreturn\u001b[39;00m \u001b[43mfunc\u001b[49m\u001b[43m(\u001b[49m\u001b[38;5;241;43m*\u001b[39;49m\u001b[43margs\u001b[49m\u001b[43m,\u001b[49m\u001b[43m \u001b[49m\u001b[38;5;241;43m*\u001b[39;49m\u001b[38;5;241;43m*\u001b[39;49m\u001b[43mkwargs\u001b[49m\u001b[43m)\u001b[49m\n",
      "File \u001b[0;32m~/.venv/lib/python3.10/site-packages/redis/connection.py:2615\u001b[0m, in \u001b[0;36mConnectionPool.get_connection\u001b[0;34m(self, command_name, *keys, **options)\u001b[0m\n\u001b[1;32m   2613\u001b[0m \u001b[38;5;28;01mexcept\u001b[39;00m (\u001b[38;5;167;01mConnectionError\u001b[39;00m, \u001b[38;5;167;01mTimeoutError\u001b[39;00m, \u001b[38;5;167;01mOSError\u001b[39;00m):\n\u001b[1;32m   2614\u001b[0m     connection\u001b[38;5;241m.\u001b[39mdisconnect()\n\u001b[0;32m-> 2615\u001b[0m     \u001b[43mconnection\u001b[49m\u001b[38;5;241;43m.\u001b[39;49m\u001b[43mconnect\u001b[49m\u001b[43m(\u001b[49m\u001b[43m)\u001b[49m\n\u001b[1;32m   2616\u001b[0m     \u001b[38;5;28;01mif\u001b[39;00m connection\u001b[38;5;241m.\u001b[39mcan_read():\n\u001b[1;32m   2617\u001b[0m         \u001b[38;5;28;01mraise\u001b[39;00m \u001b[38;5;167;01mConnectionError\u001b[39;00m(\u001b[38;5;124m\"\u001b[39m\u001b[38;5;124mConnection not ready\u001b[39m\u001b[38;5;124m\"\u001b[39m)\n",
      "File \u001b[0;32m~/.venv/lib/python3.10/site-packages/redis/connection.py:846\u001b[0m, in \u001b[0;36mAbstractConnection.connect\u001b[0;34m(self)\u001b[0m\n\u001b[1;32m    844\u001b[0m \u001b[38;5;28;01mdef\u001b[39;00m\u001b[38;5;250m \u001b[39m\u001b[38;5;21mconnect\u001b[39m(\u001b[38;5;28mself\u001b[39m):\n\u001b[1;32m    845\u001b[0m     \u001b[38;5;124m\"\u001b[39m\u001b[38;5;124mConnects to the Redis server if not already connected\u001b[39m\u001b[38;5;124m\"\u001b[39m\n\u001b[0;32m--> 846\u001b[0m     \u001b[38;5;28;43mself\u001b[39;49m\u001b[38;5;241;43m.\u001b[39;49m\u001b[43mconnect_check_health\u001b[49m\u001b[43m(\u001b[49m\u001b[43mcheck_health\u001b[49m\u001b[38;5;241;43m=\u001b[39;49m\u001b[38;5;28;43;01mTrue\u001b[39;49;00m\u001b[43m)\u001b[49m\n",
      "File \u001b[0;32m~/.venv/lib/python3.10/site-packages/redis/connection.py:863\u001b[0m, in \u001b[0;36mAbstractConnection.connect_check_health\u001b[0;34m(self, check_health, retry_socket_connect)\u001b[0m\n\u001b[1;32m    861\u001b[0m     \u001b[38;5;28;01mraise\u001b[39;00m \u001b[38;5;167;01mTimeoutError\u001b[39;00m(\u001b[38;5;124m\"\u001b[39m\u001b[38;5;124mTimeout connecting to server\u001b[39m\u001b[38;5;124m\"\u001b[39m)\n\u001b[1;32m    862\u001b[0m \u001b[38;5;28;01mexcept\u001b[39;00m \u001b[38;5;167;01mOSError\u001b[39;00m \u001b[38;5;28;01mas\u001b[39;00m e:\n\u001b[0;32m--> 863\u001b[0m     \u001b[38;5;28;01mraise\u001b[39;00m \u001b[38;5;167;01mConnectionError\u001b[39;00m(\u001b[38;5;28mself\u001b[39m\u001b[38;5;241m.\u001b[39m_error_message(e))\n\u001b[1;32m    865\u001b[0m \u001b[38;5;28mself\u001b[39m\u001b[38;5;241m.\u001b[39m_sock \u001b[38;5;241m=\u001b[39m sock\n\u001b[1;32m    866\u001b[0m \u001b[38;5;28;01mtry\u001b[39;00m:\n",
      "\u001b[0;31mConnectionError\u001b[0m: Error 111 connecting to localhost:6379. Connection refused."
     ]
    }
   ],
   "source": [
    "# 3) 메시지 추가 예시\n",
    "from langchain_core.messages import HumanMessage, AIMessage\n",
    "history.add_message(HumanMessage(content=\"안녕?\"))\n",
    "history.add_message(AIMessage(content=\"안녕하세요! 반가워요.\"))\n",
    "\n",
    "# 4) 저장된 대화 이력 확인\n",
    "print(\"=== SQL 저장된 대화 이력 ===\")\n",
    "for msg in history.messages:\n",
    "    role = \"🧑 사용자\" if msg.type == \"human\" else \"🤖 AI\"\n",
    "    print(f\"{role}: {msg.content}\")"
   ]
  },
  {
   "cell_type": "code",
   "execution_count": null,
   "id": "5e650b81",
   "metadata": {},
   "outputs": [],
   "source": []
  }
 ],
 "metadata": {
  "kernelspec": {
   "display_name": ".venv",
   "language": "python",
   "name": "python3"
  },
  "language_info": {
   "codemirror_mode": {
    "name": "ipython",
    "version": 3
   },
   "file_extension": ".py",
   "mimetype": "text/x-python",
   "name": "python",
   "nbconvert_exporter": "python",
   "pygments_lexer": "ipython3",
   "version": "3.10.12"
  }
 },
 "nbformat": 4,
 "nbformat_minor": 5
}
