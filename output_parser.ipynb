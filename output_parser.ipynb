{
 "cells": [
  {
   "cell_type": "markdown",
   "id": "38fe7aef",
   "metadata": {},
   "source": [
    "### 출력 파서"
   ]
  },
  {
   "cell_type": "code",
   "execution_count": null,
   "id": "eb36e0a9",
   "metadata": {},
   "outputs": [],
   "source": [
    "### StrOutPutParser\n",
    "### LLM 출력 텍스트를 그대로 반영하는 가장 단순한 파서"
   ]
  },
  {
   "cell_type": "code",
   "execution_count": null,
   "id": "4b609ce2",
   "metadata": {},
   "outputs": [],
   "source": [
    "### PydanticOutputParser\n",
    "### Pydantic이란?"
   ]
  },
  {
   "cell_type": "code",
   "execution_count": 1,
   "id": "1218710c",
   "metadata": {},
   "outputs": [],
   "source": [
    "from pydantic import BaseModel"
   ]
  },
  {
   "cell_type": "code",
   "execution_count": null,
   "id": "815e946f",
   "metadata": {},
   "outputs": [
    {
     "name": "stdout",
     "output_type": "stream",
     "text": [
      "id=1 name='홍길동' age=25\n",
      "id=2 name='이몽룡' age=30\n"
     ]
    },
    {
     "ename": "ValidationError",
     "evalue": "2 validation errors for User\nid\n  Input should be a valid integer, unable to parse string as an integer [type=int_parsing, input_value='삼', input_type=str]\n    For further information visit https://errors.pydantic.dev/2.12/v/int_parsing\nage\n  Input should be a valid integer, unable to parse string as an integer [type=int_parsing, input_value='스무살', input_type=str]\n    For further information visit https://errors.pydantic.dev/2.12/v/int_parsing",
     "output_type": "error",
     "traceback": [
      "\u001b[0;31m---------------------------------------------------------------------------\u001b[0m",
      "\u001b[0;31mValidationError\u001b[0m                           Traceback (most recent call last)",
      "Cell \u001b[0;32mIn[2], line 18\u001b[0m\n\u001b[1;32m     14\u001b[0m \u001b[38;5;28mprint\u001b[39m(user2)\n\u001b[1;32m     15\u001b[0m \u001b[38;5;66;03m# User(id=2, name='이몽룡', age=30)   ← 문자열이 int로 자동 변환됨\u001b[39;00m\n\u001b[1;32m     16\u001b[0m \n\u001b[1;32m     17\u001b[0m \u001b[38;5;66;03m# 타입 불일치 → 에러 발생\u001b[39;00m\n\u001b[0;32m---> 18\u001b[0m user3 \u001b[38;5;241m=\u001b[39m \u001b[43mUser\u001b[49m\u001b[43m(\u001b[49m\u001b[38;5;28;43mid\u001b[39;49m\u001b[38;5;241;43m=\u001b[39;49m\u001b[38;5;124;43m\"\u001b[39;49m\u001b[38;5;124;43m삼\u001b[39;49m\u001b[38;5;124;43m\"\u001b[39;49m\u001b[43m,\u001b[49m\u001b[43m \u001b[49m\u001b[43mname\u001b[49m\u001b[38;5;241;43m=\u001b[39;49m\u001b[38;5;124;43m\"\u001b[39;49m\u001b[38;5;124;43m성춘향\u001b[39;49m\u001b[38;5;124;43m\"\u001b[39;49m\u001b[43m,\u001b[49m\u001b[43m \u001b[49m\u001b[43mage\u001b[49m\u001b[38;5;241;43m=\u001b[39;49m\u001b[38;5;124;43m\"\u001b[39;49m\u001b[38;5;124;43m스무살\u001b[39;49m\u001b[38;5;124;43m\"\u001b[39;49m\u001b[43m)\u001b[49m\n\u001b[1;32m     19\u001b[0m \u001b[38;5;66;03m# pydantic.error_wrappers.ValidationError 발생\u001b[39;00m\n",
      "File \u001b[0;32m~/.venv/lib/python3.10/site-packages/pydantic/main.py:250\u001b[0m, in \u001b[0;36mBaseModel.__init__\u001b[0;34m(self, **data)\u001b[0m\n\u001b[1;32m    248\u001b[0m \u001b[38;5;66;03m# `__tracebackhide__` tells pytest and some other tools to omit this function from tracebacks\u001b[39;00m\n\u001b[1;32m    249\u001b[0m __tracebackhide__ \u001b[38;5;241m=\u001b[39m \u001b[38;5;28;01mTrue\u001b[39;00m\n\u001b[0;32m--> 250\u001b[0m validated_self \u001b[38;5;241m=\u001b[39m \u001b[38;5;28;43mself\u001b[39;49m\u001b[38;5;241;43m.\u001b[39;49m\u001b[43m__pydantic_validator__\u001b[49m\u001b[38;5;241;43m.\u001b[39;49m\u001b[43mvalidate_python\u001b[49m\u001b[43m(\u001b[49m\u001b[43mdata\u001b[49m\u001b[43m,\u001b[49m\u001b[43m \u001b[49m\u001b[43mself_instance\u001b[49m\u001b[38;5;241;43m=\u001b[39;49m\u001b[38;5;28;43mself\u001b[39;49m\u001b[43m)\u001b[49m\n\u001b[1;32m    251\u001b[0m \u001b[38;5;28;01mif\u001b[39;00m \u001b[38;5;28mself\u001b[39m \u001b[38;5;129;01mis\u001b[39;00m \u001b[38;5;129;01mnot\u001b[39;00m validated_self:\n\u001b[1;32m    252\u001b[0m     warnings\u001b[38;5;241m.\u001b[39mwarn(\n\u001b[1;32m    253\u001b[0m         \u001b[38;5;124m'\u001b[39m\u001b[38;5;124mA custom validator is returning a value other than `self`.\u001b[39m\u001b[38;5;130;01m\\n\u001b[39;00m\u001b[38;5;124m'\u001b[39m\n\u001b[1;32m    254\u001b[0m         \u001b[38;5;124m\"\u001b[39m\u001b[38;5;124mReturning anything other than `self` from a top level model validator isn\u001b[39m\u001b[38;5;124m'\u001b[39m\u001b[38;5;124mt supported when validating via `__init__`.\u001b[39m\u001b[38;5;130;01m\\n\u001b[39;00m\u001b[38;5;124m\"\u001b[39m\n\u001b[1;32m    255\u001b[0m         \u001b[38;5;124m'\u001b[39m\u001b[38;5;124mSee the `model_validator` docs (https://docs.pydantic.dev/latest/concepts/validators/#model-validators) for more details.\u001b[39m\u001b[38;5;124m'\u001b[39m,\n\u001b[1;32m    256\u001b[0m         stacklevel\u001b[38;5;241m=\u001b[39m\u001b[38;5;241m2\u001b[39m,\n\u001b[1;32m    257\u001b[0m     )\n",
      "\u001b[0;31mValidationError\u001b[0m: 2 validation errors for User\nid\n  Input should be a valid integer, unable to parse string as an integer [type=int_parsing, input_value='삼', input_type=str]\n    For further information visit https://errors.pydantic.dev/2.12/v/int_parsing\nage\n  Input should be a valid integer, unable to parse string as an integer [type=int_parsing, input_value='스무살', input_type=str]\n    For further information visit https://errors.pydantic.dev/2.12/v/int_parsing"
     ]
    }
   ],
   "source": [
    "# 데이터 스키마 정의\n",
    "class User(BaseModel):\n",
    "    id: int\n",
    "    name: str\n",
    "    age: int\n",
    "\n",
    "# 올바른 데이터 → 정상 객체 생성\n",
    "user = User(id=1, name=\"홍길동\", age=25)\n",
    "print(user)  \n",
    "# User(id=1, name='홍길동', age=25)\n",
    "\n",
    "# 잘못된 데이터 → 자동 변환 또는 에러\n",
    "user2 = User(id=\"2\", name=\"이몽룡\", age=\"30\")\n",
    "print(user2)\n",
    "# User(id=2, name='이몽룡', age=30)   ← 문자열이 int로 자동 변환됨\n",
    "\n",
    "# 타입 불일치 → 에러 발생\n",
    "user3 = User(id=\"삼\", name=\"성춘향\", age=\"스무살\")\n",
    "# pydantic.error_wrappers.ValidationError 발생"
   ]
  },
  {
   "cell_type": "code",
   "execution_count": 3,
   "id": "1eb6c212",
   "metadata": {},
   "outputs": [],
   "source": [
    "from langchain_core.output_parsers import PydanticOutputParser\n",
    "from pydantic import BaseModel, Field\n",
    "\n",
    "class Joke(BaseModel):\n",
    "    setup: str = Field(description = \"농담의 전개 부분\")\n",
    "    punchline : str = Field(description = \"농담의 결론/웃긴 부분\")"
   ]
  },
  {
   "cell_type": "code",
   "execution_count": 5,
   "id": "1a65d969",
   "metadata": {},
   "outputs": [],
   "source": [
    "# parser를 pydantic을 사용해서 만든다\n",
    "#2) 파서 생성\n",
    "\n",
    "parser = PydanticOutputParser(pydantic_object = Joke) #객체로 Joke class의 인스턴스를 가지고 하겠다"
   ]
  },
  {
   "cell_type": "code",
   "execution_count": null,
   "id": "1f9e12fb",
   "metadata": {},
   "outputs": [],
   "source": []
  }
 ],
 "metadata": {
  "kernelspec": {
   "display_name": ".venv",
   "language": "python",
   "name": "python3"
  },
  "language_info": {
   "codemirror_mode": {
    "name": "ipython",
    "version": 3
   },
   "file_extension": ".py",
   "mimetype": "text/x-python",
   "name": "python",
   "nbconvert_exporter": "python",
   "pygments_lexer": "ipython3",
   "version": "3.10.12"
  }
 },
 "nbformat": 4,
 "nbformat_minor": 5
}
