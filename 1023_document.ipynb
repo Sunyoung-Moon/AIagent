{
 "cells": [
  {
   "cell_type": "markdown",
   "id": "388f5ece",
   "metadata": {},
   "source": [
    "# 문서 로더(document Loader)\n",
    "### Document 객체\n",
    ": LangChain에서 Document 객체는 모든 데이터의 기본 단위이며, \n",
    "  Loader로 불러온 텍스트를 모델이 이해할 수 있는 표준 구조로 정리한 클래스"
   ]
  },
  {
   "cell_type": "code",
   "execution_count": 19,
   "id": "e683b510",
   "metadata": {},
   "outputs": [
    {
     "data": {
      "text/plain": [
       "True"
      ]
     },
     "execution_count": 19,
     "metadata": {},
     "output_type": "execute_result"
    }
   ],
   "source": [
    "import os\n",
    "from dotenv import load_dotenv\n",
    "load_dotenv(\"/home/ubuntu/project/.env\")"
   ]
  },
  {
   "cell_type": "code",
   "execution_count": 11,
   "id": "f1d3bc63",
   "metadata": {},
   "outputs": [],
   "source": [
    "from langchain_core.documents import Document\n",
    "# Document는 LangChain 라이브러리의 일부로, 다음과 같이 import 해야 합니다 👇"
   ]
  },
  {
   "cell_type": "code",
   "execution_count": 12,
   "id": "3fc31d49",
   "metadata": {},
   "outputs": [
    {
     "name": "stdout",
     "output_type": "stream",
     "text": [
      "page_content='1장. LangChain 개요...' metadata={'source': 'data/guide.pdf', 'page': 1}\n",
      "page_content='2장. Document Loader의 종류...' metadata={'source': 'data/guide.pdf', 'page': 2}\n"
     ]
    }
   ],
   "source": [
    "docs = \\\n",
    "[\n",
    "  Document(\n",
    "    page_content=\"1장. LangChain 개요...\",\n",
    "    metadata={\"source\": \"data/guide.pdf\", \"page\": 1}\n",
    "  ),\n",
    "  Document(\n",
    "    page_content=\"2장. Document Loader의 종류...\",\n",
    "    metadata={\"source\": \"data/guide.pdf\", \"page\": 2}\n",
    "  ),\n",
    "]\n",
    "print(docs[0])\n",
    "print(docs[1])"
   ]
  },
  {
   "cell_type": "code",
   "execution_count": 15,
   "id": "fb500129",
   "metadata": {},
   "outputs": [],
   "source": [
    "metadata={\"source\": \"lecture_note\", \"page\": 1}"
   ]
  },
  {
   "cell_type": "code",
   "execution_count": 16,
   "id": "2aef072b",
   "metadata": {},
   "outputs": [
    {
     "name": "stdout",
     "output_type": "stream",
     "text": [
      "page_content: 1장. LangChain 개요...\n",
      "metadata: {'source': 'data/guide.pdf', 'page': 1}\n"
     ]
    }
   ],
   "source": [
    "print('page_content:',docs[0].page_content)\n",
    "print('metadata:',docs[0].metadata)"
   ]
  },
  {
   "cell_type": "code",
   "execution_count": 2,
   "id": "cff9ef0e",
   "metadata": {},
   "outputs": [
    {
     "name": "stdout",
     "output_type": "stream",
     "text": [
      "Writing sample.txt\n"
     ]
    }
   ],
   "source": [
    "%%writefile sample.txt\n",
    "이 문서는 Langchain TextLoader 예시입니다.\n",
    "여러 줄의 텍스트를 포함합니다."
   ]
  },
  {
   "cell_type": "code",
   "execution_count": 24,
   "id": "efdaae05",
   "metadata": {},
   "outputs": [],
   "source": [
    "from langchain_community.document_loaders import TextLoader\n",
    "from langchain_text_splitters import RecursiveCharacterTextSplitter\n",
    "from langchain_openai import OpenAIEmbeddings\n",
    "from langchain_community.vectorstores import FAISS\n"
   ]
  },
  {
   "cell_type": "code",
   "execution_count": 25,
   "id": "199cadfb",
   "metadata": {},
   "outputs": [],
   "source": [
    "#1) textload - from langchain\n",
    "loader = TextLoader(\"sample.txt\", encoding=\"utf-8\")\n",
    "docs = loader.load()\n",
    "\n",
    "#2) 청크 단위로 나누기\n",
    "splitter = RecursiveCharacterTextSplitter(chunk_size = 50, chunk_overlap = 10)\n",
    "split_docs = splitter.split_documents(docs)"
   ]
  },
  {
   "cell_type": "code",
   "execution_count": 27,
   "id": "3741312d",
   "metadata": {},
   "outputs": [
    {
     "name": "stdout",
     "output_type": "stream",
     "text": [
      "Collecting faiss-cpu\n",
      "  Downloading faiss_cpu-1.12.0-cp310-cp310-manylinux_2_27_aarch64.manylinux_2_28_aarch64.whl.metadata (5.1 kB)\n",
      "Requirement already satisfied: numpy<3.0,>=1.25.0 in /home/ubuntu/.venv/lib/python3.10/site-packages (from faiss-cpu) (2.2.6)\n",
      "Requirement already satisfied: packaging in /home/ubuntu/.venv/lib/python3.10/site-packages (from faiss-cpu) (25.0)\n",
      "Downloading faiss_cpu-1.12.0-cp310-cp310-manylinux_2_27_aarch64.manylinux_2_28_aarch64.whl (3.8 MB)\n",
      "\u001b[2K   \u001b[90m━━━━━━━━━━━━━━━━━━━━━━━━━━━━━━━━━━━━━━━━\u001b[0m \u001b[32m3.8/3.8 MB\u001b[0m \u001b[31m22.4 MB/s\u001b[0m  \u001b[33m0:00:00\u001b[0m eta \u001b[36m0:00:01\u001b[0m\n",
      "\u001b[?25hInstalling collected packages: faiss-cpu\n",
      "Successfully installed faiss-cpu-1.12.0\n",
      "Note: you may need to restart the kernel to use updated packages.\n"
     ]
    }
   ],
   "source": [
    "pip install -U faiss-cpu"
   ]
  },
  {
   "cell_type": "code",
   "execution_count": 28,
   "id": "837f1894",
   "metadata": {},
   "outputs": [],
   "source": [
    "#3) 임베딩 생성 및 벡터 저장\n",
    "embeddings = OpenAIEmbeddings(model=\"text-embedding-3-small\")\n",
    "vectorstore = FAISS.from_documents(split_docs,embeddings)"
   ]
  },
  {
   "cell_type": "code",
   "execution_count": 30,
   "id": "c3cb4906",
   "metadata": {},
   "outputs": [
    {
     "name": "stdout",
     "output_type": "stream",
     "text": [
      "총 2 개의 청크가 생성되었습니다\n"
     ]
    }
   ],
   "source": [
    "print(\"총\", len(split_docs), \"개의 청크가 생성되었습니다\")"
   ]
  },
  {
   "cell_type": "markdown",
   "id": "43868b75",
   "metadata": {},
   "source": [
    "###  [2] DirectoryLoader\n",
    ": DirectoryLoader는 폴더(디렉터리) 안의 여러 파일을 자동으로 탐색하여 <br>\n",
    "각 파일을 개별 Document 객체로 읽어들이는 문서 로더(Document Loader) 이다. <br>\n",
    "이 클래스는 실제 프로젝트에서 대규모 문서 일괄 처리 시 거의 항상 사용되는 핵심 도구이다."
   ]
  },
  {
   "cell_type": "code",
   "execution_count": 31,
   "id": "8f6ea233",
   "metadata": {},
   "outputs": [],
   "source": [
    "! mkdir data"
   ]
  },
  {
   "cell_type": "code",
   "execution_count": 32,
   "id": "a455a801",
   "metadata": {},
   "outputs": [
    {
     "name": "stdout",
     "output_type": "stream",
     "text": [
      " sample1.txt 파일 생성 완료\n",
      " sample2.txt 파일 생성 완료\n",
      " sample3.txt 파일 생성 완료\n",
      "\n",
      "📂 'data' 폴더에 3개의 샘플 텍스트 파일이 준비되었습니다.\n"
     ]
    }
   ],
   "source": [
    "# 1. data 폴더 생성 (이미 존재하면 무시)\n",
    "os.makedirs(\"data\", exist_ok=True)\n",
    "\n",
    "# 2. 샘플 텍스트 데이터\n",
    "samples = {\n",
    "    \"sample1.txt\": \"\"\"LangChain은 LLM(대규모 언어모델)을 활용한 파이프라인 구축을 위한 오픈소스 프레임워크입니다.\n",
    "Document Loader를 통해 다양한 외부 데이터를 로드하고,\n",
    "Text Splitter로 문서를 나눈 후, Embedding 및 VectorStore를 이용해 RAG 시스템을 구성할 수 있습니다.\"\"\",\n",
    "\n",
    "    \"sample2.txt\": \"\"\"FAISS는 Facebook AI Research에서 개발한 벡터 검색 라이브러리입니다.\n",
    "LangChain에서는 문서 임베딩을 벡터로 변환한 후,\n",
    "FAISS를 이용해 빠른 유사도 검색을 수행합니다.\"\"\",\n",
    "\n",
    "    \"sample3.txt\": \"\"\"pgvector는 PostgreSQL 데이터베이스에서 벡터 데이터를 저장하고 검색할 수 있게 해주는 확장 모듈입니다.\n",
    "LangChain은 pgvector를 통해 RAG 시스템을 SQL 기반 환경에서도 구현할 수 있습니다.\"\"\"\n",
    "}\n",
    "\n",
    "# 3. 파일 생성 및 저장\n",
    "for filename, content in samples.items():\n",
    "    path = os.path.join(\"data\", filename)\n",
    "    with open(path, \"w\", encoding=\"utf-8\") as f:\n",
    "        f.write(content)\n",
    "    print(f\" {filename} 파일 생성 완료\")\n",
    "\n",
    "print(\"\\n📂 'data' 폴더에 3개의 샘플 텍스트 파일이 준비되었습니다.\")"
   ]
  },
  {
   "cell_type": "code",
   "execution_count": null,
   "id": "ac3c64e8",
   "metadata": {},
   "outputs": [],
   "source": []
  }
 ],
 "metadata": {
  "kernelspec": {
   "display_name": ".venv",
   "language": "python",
   "name": "python3"
  },
  "language_info": {
   "codemirror_mode": {
    "name": "ipython",
    "version": 3
   },
   "file_extension": ".py",
   "mimetype": "text/x-python",
   "name": "python",
   "nbconvert_exporter": "python",
   "pygments_lexer": "ipython3",
   "version": "3.10.12"
  }
 },
 "nbformat": 4,
 "nbformat_minor": 5
}
